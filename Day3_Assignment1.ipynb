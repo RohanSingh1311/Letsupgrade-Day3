{
  "nbformat": 4,
  "nbformat_minor": 0,
  "metadata": {
    "colab": {
      "name": "Day2 Assignment1.ipynb",
      "provenance": [],
      "collapsed_sections": []
    },
    "kernelspec": {
      "name": "python3",
      "display_name": "Python 3"
    }
  },
  "cells": [
    {
      "cell_type": "markdown",
      "metadata": {
        "id": "otr9Pl7u7BY2",
        "colab_type": "text"
      },
      "source": [
        "**Landing of Plane**"
      ]
    },
    {
      "cell_type": "code",
      "metadata": {
        "id": "M46haUhj63_P",
        "colab_type": "code",
        "colab": {
          "base_uri": "https://localhost:8080/",
          "height": 34
        },
        "outputId": "00e8a95b-6c90-40ce-a9c0-e05918a33245"
      },
      "source": [
        "altitude= input(\"Enter Current Altitude Of Plane: \")"
      ],
      "execution_count": null,
      "outputs": [
        {
          "output_type": "stream",
          "text": [
            "Enter Current Altitude Of Plane: -10\n"
          ],
          "name": "stdout"
        }
      ]
    },
    {
      "cell_type": "code",
      "metadata": {
        "id": "Poc0IVSg7lFv",
        "colab_type": "code",
        "colab": {}
      },
      "source": [
        "altitude= int(altitude)"
      ],
      "execution_count": null,
      "outputs": []
    },
    {
      "cell_type": "code",
      "metadata": {
        "id": "6Uu-W8288LdH",
        "colab_type": "code",
        "colab": {
          "base_uri": "https://localhost:8080/",
          "height": 34
        },
        "outputId": "2e1ff1d3-56d6-4b21-cb11-cb95a35f059d"
      },
      "source": [
        "if altitude>=0 and altitude<=1000:\n",
        "    print(\"you can land!!!\")\n",
        "elif altitude>1000 and altitude<=5000:\n",
        "    print(\"Come down to 1000ft. And try to land\")\n",
        "elif altitude>5000:\n",
        "    print(\"You are very high..turn around and try again later!\")\n",
        "else:\n",
        "    print(\"Enter a valid altitude!!!\")"
      ],
      "execution_count": null,
      "outputs": [
        {
          "output_type": "stream",
          "text": [
            "Enter a valid altitude!!!\n"
          ],
          "name": "stdout"
        }
      ]
    }
  ]
}